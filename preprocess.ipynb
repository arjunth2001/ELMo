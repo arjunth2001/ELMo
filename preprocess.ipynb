{
 "cells": [
  {
   "cell_type": "code",
   "execution_count": 1,
   "id": "cc9641b1-9d4f-4f0c-87c5-d5975da5a530",
   "metadata": {},
   "outputs": [],
   "source": [
    "import os\n",
    "import re"
   ]
  },
  {
   "cell_type": "code",
   "execution_count": 2,
   "id": "964b636e-88ba-4211-b2f0-b6818136c0a4",
   "metadata": {},
   "outputs": [],
   "source": [
    "dirs = [d for d in os.listdir(\"data/swb_ms98_transcriptions\") if \".\" not in d]"
   ]
  },
  {
   "cell_type": "code",
   "execution_count": 3,
   "id": "82b42a12-e54b-4ca9-aaf9-0f4d61490a10",
   "metadata": {},
   "outputs": [],
   "source": [
    "excluded_tags = ['x']\n",
    "# Excluded characters for ignoring i.e. <laughter>\n",
    "excluded_chars = {'<', '>', '(', ')', '-', '#','[',']'}"
   ]
  },
  {
   "cell_type": "code",
   "execution_count": 4,
   "id": "4dc25947-09f0-4b10-9982-ce1b758ebffb",
   "metadata": {},
   "outputs": [],
   "source": [
    "corpus =[]\n",
    "for d in dirs:\n",
    "    inner_dirs = [idx for idx in os.listdir(f\"data/swb_ms98_transcriptions/{d}\") if \".\" not in idx]\n",
    "    for idx in inner_dirs:\n",
    "        files = [f for f in os.listdir(f\"data/swb_ms98_transcriptions/{d}/{idx}\") if \"trans.text\"  in f]\n",
    "        for file in files:\n",
    "            with open(f\"data/swb_ms98_transcriptions/{d}/{idx}/{file}\") as f:\n",
    "                lines = f.readlines()\n",
    "                for l in lines:\n",
    "                    words = l.split()[3:]\n",
    "                    utterance_text =[]\n",
    "                    for word in words:\n",
    "                        if all(char not in excluded_chars for char in word):\n",
    "                            utterance_text.append(word)\n",
    "                        elif any(char is '#' for char in word):\n",
    "                            word = word.replace('#', \"\")\n",
    "                            utterance_text.append(word)\n",
    "                        elif len(word) > 1:\n",
    "                            if word[0] not in excluded_chars and word[-1] not in excluded_chars and word[-2] not in excluded_chars:\n",
    "                                utterance_text.append(word)\n",
    "                    utterance_text = \" \".join(utterance_text)\n",
    "                    utterance_text = re.sub(' +', ' ', utterance_text)\n",
    "                    if (not utterance_text.isspace() and len(utterance_text) >= 1):\n",
    "                        corpus.append(utterance_text.lower())        "
   ]
  },
  {
   "cell_type": "code",
   "execution_count": 5,
   "id": "d079a002-47c1-4ef4-8e26-3d6a3ce1211e",
   "metadata": {},
   "outputs": [],
   "source": [
    "corpus = list(set(corpus))"
   ]
  },
  {
   "cell_type": "code",
   "execution_count": 6,
   "id": "98e7cfd2-856b-4260-b32c-016276fc1bda",
   "metadata": {},
   "outputs": [
    {
     "data": {
      "text/plain": [
       "165684"
      ]
     },
     "execution_count": 6,
     "metadata": {},
     "output_type": "execute_result"
    }
   ],
   "source": [
    "len(corpus)"
   ]
  },
  {
   "cell_type": "code",
   "execution_count": 7,
   "id": "9306e38f-2c4e-4973-8955-ff311d5c7df5",
   "metadata": {},
   "outputs": [],
   "source": [
    "with open(\"data/corpus.json\",\"w\") as f:\n",
    "    import json\n",
    "    json.dump(corpus,f,indent=4)"
   ]
  }
 ],
 "metadata": {
  "kernelspec": {
   "display_name": "Python 3 (ipykernel)",
   "language": "python",
   "name": "python3"
  },
  "language_info": {
   "codemirror_mode": {
    "name": "ipython",
    "version": 3
   },
   "file_extension": ".py",
   "mimetype": "text/x-python",
   "name": "python",
   "nbconvert_exporter": "python",
   "pygments_lexer": "ipython3",
   "version": "3.7.11"
  }
 },
 "nbformat": 4,
 "nbformat_minor": 5
}
