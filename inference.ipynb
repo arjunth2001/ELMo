{
 "cells": [
  {
   "cell_type": "code",
   "execution_count": 1,
   "id": "9f750a74-f598-43dd-b431-32055f2c5d9a",
   "metadata": {},
   "outputs": [],
   "source": [
    "import ipynb.fs\n",
    "from .defs.ELMo import ELMo, Tokenizer\n",
    "import torch\n",
    "import numpy as np\n",
    "import math\n",
    "from numpy import dot\n",
    "from numpy.linalg import norm"
   ]
  },
  {
   "cell_type": "code",
   "execution_count": 2,
   "id": "9bb2642c-15bc-4099-a882-27cc38492e20",
   "metadata": {},
   "outputs": [],
   "source": [
    "model_path='./elmo_model'"
   ]
  },
  {
   "cell_type": "code",
   "execution_count": 3,
   "id": "8a6d3340-d6d7-406e-85cd-4874e5a7814e",
   "metadata": {},
   "outputs": [
    {
     "name": "stdout",
     "output_type": "stream",
     "text": [
      "device: cuda\n"
     ]
    }
   ],
   "source": [
    "if torch.cuda.is_available():\n",
    "    device = torch.device('cuda')\n",
    "else:\n",
    "    device = torch.device('cpu')\n",
    "print('device: ' + str(device))"
   ]
  },
  {
   "cell_type": "code",
   "execution_count": 4,
   "id": "d2c3ce4c-e11c-4524-b37a-e0de4d3e8017",
   "metadata": {},
   "outputs": [],
   "source": [
    "model = ELMo.from_checkpoint(model_path)"
   ]
  },
  {
   "cell_type": "code",
   "execution_count": 5,
   "id": "6ebd16b8-bd92-42ec-aa9a-2beb9a96a982",
   "metadata": {},
   "outputs": [],
   "source": [
    "def get_embedding(text,word,model,device):\n",
    "    model.to(device)\n",
    "    tokenizer = model.tokenizer\n",
    "    idx = text.split().index(word)\n",
    "    model.eval()\n",
    "    with torch.no_grad():\n",
    "        w ,c , _ = tokenizer.tokenize(text,max_length=model.config[\"elmo\"][\"max_length\"])\n",
    "        w = w.unsqueeze(0).to(device)\n",
    "        c = c.unsqueeze(0).to(device)\n",
    "        f , b = model(w,c)\n",
    "        encoder_embedding = f[0][0][idx].cpu().detach().numpy()\n",
    "        hv =[]\n",
    "        for i in range(1,len(f)):\n",
    "            hv.append(torch.cat((f[i][0][idx],b[i][0][idx])).cpu().detach().numpy())\n",
    "    h_mean = np.mean(hv,axis=0)\n",
    "    return h_mean"
   ]
  },
  {
   "cell_type": "code",
   "execution_count": 6,
   "id": "80d9920b-b1ba-454e-a2e5-2c368e0e51f8",
   "metadata": {},
   "outputs": [],
   "source": [
    "def euclidean_distance(x1,x2):\n",
    "    return math.sqrt(((x1-x2)**2).cumsum()[-1])"
   ]
  },
  {
   "cell_type": "code",
   "execution_count": 7,
   "id": "b92e776e-d8d6-4221-8bb6-f0fe4630ac3f",
   "metadata": {},
   "outputs": [],
   "source": [
    "def cos(a,b):\n",
    "    return dot(a, b)/(norm(a)*norm(b))"
   ]
  },
  {
   "cell_type": "code",
   "execution_count": 8,
   "id": "903b05d3-af26-45c8-b538-5c1e2818d8fa",
   "metadata": {},
   "outputs": [],
   "source": [
    "text = \"The orange from the supermarket was juicy and tasty. Their fruits are the best\"\n",
    "word = \"orange\""
   ]
  },
  {
   "cell_type": "code",
   "execution_count": 9,
   "id": "3d3ca825-5000-45b5-8868-c65ddb9df9ae",
   "metadata": {},
   "outputs": [],
   "source": [
    "orange1 = get_embedding(text,word,model,device)"
   ]
  },
  {
   "cell_type": "code",
   "execution_count": 10,
   "id": "bed69e5c-659d-4dcd-a1df-2b871280f462",
   "metadata": {},
   "outputs": [],
   "source": [
    "text = \"The artist painted his house with a tint of orange color and it looked vibrant\"\n",
    "word = \"orange\"\n",
    "orange2 = get_embedding(text,word,model,device)"
   ]
  },
  {
   "cell_type": "code",
   "execution_count": 11,
   "id": "078e23c2-3cf7-4d54-acb2-4a7d230701b7",
   "metadata": {},
   "outputs": [],
   "source": [
    "text = \"The painting has a lot of vibrant colors and it looked beautiful.\"\n",
    "word = \"vibrant\"\n",
    "vibrant = get_embedding(text,word,model,device)"
   ]
  },
  {
   "cell_type": "code",
   "execution_count": 12,
   "id": "6dfb3330-1264-49a6-b0f5-f2318a3bdfe0",
   "metadata": {},
   "outputs": [
    {
     "data": {
      "text/plain": [
       "0.8141281"
      ]
     },
     "execution_count": 12,
     "metadata": {},
     "output_type": "execute_result"
    }
   ],
   "source": [
    "cos(orange1,vibrant)"
   ]
  },
  {
   "cell_type": "code",
   "execution_count": 13,
   "id": "55e29c23-01da-465e-b7ff-f2d877d2bb84",
   "metadata": {},
   "outputs": [
    {
     "data": {
      "text/plain": [
       "0.9127989"
      ]
     },
     "execution_count": 13,
     "metadata": {},
     "output_type": "execute_result"
    }
   ],
   "source": [
    "cos(orange2,vibrant)"
   ]
  },
  {
   "cell_type": "code",
   "execution_count": null,
   "id": "e9bc45a1-bb96-45de-b7f6-40a2684031c6",
   "metadata": {},
   "outputs": [],
   "source": []
  }
 ],
 "metadata": {
  "kernelspec": {
   "display_name": "Python 3 (ipykernel)",
   "language": "python",
   "name": "python3"
  },
  "language_info": {
   "codemirror_mode": {
    "name": "ipython",
    "version": 3
   },
   "file_extension": ".py",
   "mimetype": "text/x-python",
   "name": "python",
   "nbconvert_exporter": "python",
   "pygments_lexer": "ipython3",
   "version": "3.7.0"
  }
 },
 "nbformat": 4,
 "nbformat_minor": 5
}
